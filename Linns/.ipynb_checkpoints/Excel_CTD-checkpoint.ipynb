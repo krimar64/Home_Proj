{
 "cells": [
  {
   "cell_type": "code",
   "execution_count": 7,
   "metadata": {},
   "outputs": [
    {
     "name": "stdout",
     "output_type": "stream",
     "text": [
      "Requirement already satisfied: matplotlib in c:\\users\\bruker\\appdata\\local\\programs\\python\\python39\\lib\\site-packages (3.5.0)\n",
      "Requirement already satisfied: pandas in c:\\users\\bruker\\appdata\\local\\programs\\python\\python39\\lib\\site-packages (1.3.4)\n",
      "Requirement already satisfied: numpy in c:\\users\\bruker\\appdata\\local\\programs\\python\\python39\\lib\\site-packages (1.21.4)\n",
      "Requirement already satisfied: xlrd in c:\\users\\bruker\\appdata\\local\\programs\\python\\python39\\lib\\site-packages (2.0.1)\n",
      "Requirement already satisfied: fonttools>=4.22.0 in c:\\users\\bruker\\appdata\\local\\programs\\python\\python39\\lib\\site-packages (from matplotlib) (4.28.3)\n",
      "Requirement already satisfied: packaging>=20.0 in c:\\users\\bruker\\appdata\\local\\programs\\python\\python39\\lib\\site-packages (from matplotlib) (21.3)\n",
      "Requirement already satisfied: kiwisolver>=1.0.1 in c:\\users\\bruker\\appdata\\local\\programs\\python\\python39\\lib\\site-packages (from matplotlib) (1.3.2)\n",
      "Requirement already satisfied: setuptools-scm>=4 in c:\\users\\bruker\\appdata\\local\\programs\\python\\python39\\lib\\site-packages (from matplotlib) (6.3.2)\n",
      "Requirement already satisfied: pyparsing>=2.2.1 in c:\\users\\bruker\\appdata\\local\\programs\\python\\python39\\lib\\site-packages (from matplotlib) (3.0.6)\n",
      "Requirement already satisfied: python-dateutil>=2.7 in c:\\users\\bruker\\appdata\\local\\programs\\python\\python39\\lib\\site-packages (from matplotlib) (2.8.2)\n",
      "Requirement already satisfied: cycler>=0.10 in c:\\users\\bruker\\appdata\\local\\programs\\python\\python39\\lib\\site-packages (from matplotlib) (0.11.0)\n",
      "Requirement already satisfied: pillow>=6.2.0 in c:\\users\\bruker\\appdata\\local\\programs\\python\\python39\\lib\\site-packages (from matplotlib) (8.4.0)\n",
      "Requirement already satisfied: pytz>=2017.3 in c:\\users\\bruker\\appdata\\local\\programs\\python\\python39\\lib\\site-packages (from pandas) (2021.3)\n",
      "Requirement already satisfied: six>=1.5 in c:\\users\\bruker\\appdata\\local\\programs\\python\\python39\\lib\\site-packages (from python-dateutil>=2.7->matplotlib) (1.16.0)\n",
      "Requirement already satisfied: tomli>=1.0.0 in c:\\users\\bruker\\appdata\\local\\programs\\python\\python39\\lib\\site-packages (from setuptools-scm>=4->matplotlib) (1.2.2)\n",
      "Requirement already satisfied: setuptools in c:\\users\\bruker\\appdata\\local\\programs\\python\\python39\\lib\\site-packages (from setuptools-scm>=4->matplotlib) (56.0.0)\n"
     ]
    }
   ],
   "source": [
    "! pip install matplotlib pandas numpy xlrd"
   ]
  },
  {
   "cell_type": "code",
   "execution_count": 8,
   "metadata": {},
   "outputs": [],
   "source": [
    "import pandas as pd\n",
    "import matplotlib.pyplot as plt\n",
    "import numpy as np\n",
    "import xlrd"
   ]
  },
  {
   "cell_type": "code",
   "execution_count": 9,
   "metadata": {},
   "outputs": [
    {
     "name": "stdout",
     "output_type": "stream",
     "text": [
      "      Unnamed: 0    St_01    St_02    St_03    St_04    St_05    St_06  \\\n",
      "0            NaN  35.8980  35.9980  36.0650  36.1320  36.2000  36.2670   \n",
      "1            NaN  -8.3352  -8.3332  -8.3348  -8.3342  -8.3343  -8.3343   \n",
      "2            1.0  36.6040  36.6180  36.6150  36.6110  36.5990  36.5910   \n",
      "3            2.0  36.6040  36.6180  36.6150  36.6110  36.5990  36.5910   \n",
      "4            3.0  36.6040  36.6180  36.6150  36.6110  36.5990  36.5910   \n",
      "...          ...      ...      ...      ...      ...      ...      ...   \n",
      "2171      2143.0      NaN  35.1100      NaN      NaN      NaN      NaN   \n",
      "2172      2144.0      NaN  35.1100      NaN      NaN      NaN      NaN   \n",
      "2173      2145.0      NaN  35.1100      NaN      NaN      NaN      NaN   \n",
      "2174      2146.0      NaN  35.1090      NaN      NaN      NaN      NaN   \n",
      "2175      2147.0      NaN  35.1090      NaN      NaN      NaN      NaN   \n",
      "\n",
      "        St_07    St_08    St_09    St_10    St_11    St_12    St_13    St_14  \\\n",
      "0     36.3330  36.4000  36.4670  36.5170  36.5650  36.6180  36.6650  36.7150   \n",
      "1     -8.3327  -8.3328  -8.3345  -8.3343  -8.3323  -8.3335  -8.3328  -8.3325   \n",
      "2     36.5580  36.5230  36.4330  36.3780  36.3400  36.4110  36.0790  36.0180   \n",
      "3     36.5580  36.5230  36.4330  36.3780  36.3400  36.4110  36.0790  36.0180   \n",
      "4     36.5580  36.5230  36.4330  36.3780  36.3400  36.4110  36.0790  36.0180   \n",
      "...       ...      ...      ...      ...      ...      ...      ...      ...   \n",
      "2171      NaN      NaN      NaN      NaN      NaN      NaN      NaN      NaN   \n",
      "2172      NaN      NaN      NaN      NaN      NaN      NaN      NaN      NaN   \n",
      "2173      NaN      NaN      NaN      NaN      NaN      NaN      NaN      NaN   \n",
      "2174      NaN      NaN      NaN      NaN      NaN      NaN      NaN      NaN   \n",
      "2175      NaN      NaN      NaN      NaN      NaN      NaN      NaN      NaN   \n",
      "\n",
      "        St_15    St_16    St_17    St_18  \n",
      "0     36.7520  36.7800  36.8150  36.8620  \n",
      "1     -8.3333  -8.3343  -8.3325  -8.3333  \n",
      "2     36.0220  36.0160  36.0070  35.9560  \n",
      "3     36.0220  36.0160  36.0070  35.9560  \n",
      "4     36.0220  36.0160  36.0070  35.9560  \n",
      "...       ...      ...      ...      ...  \n",
      "2171      NaN      NaN      NaN      NaN  \n",
      "2172      NaN      NaN      NaN      NaN  \n",
      "2173      NaN      NaN      NaN      NaN  \n",
      "2174      NaN      NaN      NaN      NaN  \n",
      "2175      NaN      NaN      NaN      NaN  \n",
      "\n",
      "[2176 rows x 19 columns]\n"
     ]
    }
   ],
   "source": [
    "open(\"CTD-Transect_Gibraltar.xls\")\n",
    "\n",
    "sal_all = pd.read_excel('CTD-Transect_Gibraltar.xls','Sal')\n",
    "print(sal_all)"
   ]
  },
  {
   "cell_type": "code",
   "execution_count": 11,
   "metadata": {},
   "outputs": [
    {
     "name": "stdout",
     "output_type": "stream",
     "text": [
      "St_01    35.898\n",
      "St_02    35.998\n",
      "St_03    36.065\n",
      "St_04    36.132\n",
      "St_05    36.200\n",
      "St_06    36.267\n",
      "St_07    36.333\n",
      "St_08    36.400\n",
      "St_09    36.467\n",
      "St_10    36.517\n",
      "St_11    36.565\n",
      "St_12    36.618\n",
      "St_13    36.665\n",
      "St_14    36.715\n",
      "St_15    36.752\n",
      "St_16    36.780\n",
      "St_17    36.815\n",
      "St_18    36.862\n",
      "Name: 0, dtype: float64\n"
     ]
    }
   ],
   "source": [
    "lat  = sal_all.iloc[0,1:]\n",
    "depth = sal_all.iloc[2:,0]\n",
    "sal = sal_all.iloc[2:,1:]\n",
    "\n",
    "print(lat)\n"
   ]
  },
  {
   "cell_type": "code",
   "execution_count": 12,
   "metadata": {},
   "outputs": [
    {
     "data": {
      "image/png": "[encoded data removed]",
      "text/plain": [
       "<Figure size 432x288 with 2 Axes>"
      ]
     },
     "metadata": {
      "needs_background": "light"
     },
     "output_type": "display_data"
    }
   ],
   "source": [
    "\n",
    "\n",
    "plt.contourf(lat,depth,sal,np.arange(35, 37, 0.1))\n",
    "cbar = plt.colorbar()\n",
    "#plt.contour(lat,depth,sal,np.arange(35, 37, 0.1),colors='k')\n",
    "plt.gca().invert_yaxis()\n",
    "plt.xlabel('Latitude ($^\\circ$N)',fontsize=16)\n",
    "plt.ylabel('Depth (m)',fontsize=16)\n",
    "plt.title('Salinity transect',fontsize=20)\n",
    "cbar.set_label('Salinity (PSU)',fontsize=16)\n",
    "plt.show()\n"
   ]
  },
  {
   "cell_type": "code",
   "execution_count": null,
   "metadata": {},
   "outputs": [],
   "source": []
  },
  {
   "cell_type": "code",
   "execution_count": null,
   "metadata": {},
   "outputs": [],
   "source": []
  }
 ],
 "metadata": {
  "kernelspec": {
   "display_name": "Python 3 (ipykernel)",
   "language": "python",
   "name": "python3"
  },
  "language_info": {
   "codemirror_mode": {
    "name": "ipython",
    "version": 3
   },
   "file_extension": ".py",
   "mimetype": "text/x-python",
   "name": "python",
   "nbconvert_exporter": "python",
   "pygments_lexer": "ipython3",
   "version": "3.9.6"
  }
 },
 "nbformat": 4,
 "nbformat_minor": 4
}
